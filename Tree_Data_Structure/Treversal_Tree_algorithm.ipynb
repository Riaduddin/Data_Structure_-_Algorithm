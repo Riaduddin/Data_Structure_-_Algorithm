{
 "cells": [
  {
   "cell_type": "code",
   "execution_count": 1,
   "metadata": {},
   "outputs": [],
   "source": [
    "class Node:\n",
    "    def __init__(self, data):\n",
    "        self.left = None\n",
    "        self.right = None\n",
    "        self.data = data"
   ]
  },
  {
   "cell_type": "code",
   "execution_count": 6,
   "metadata": {},
   "outputs": [],
   "source": [
    "def inorder(root):\n",
    "    if root:\n",
    "        inorder(root.left)\n",
    "        print(root.data)\n",
    "        inorder(root.right)\n",
    "def inorder_without_recursion(root):\n",
    "    current=root\n",
    "    stack=[]\n",
    "    while True:\n",
    "        if current is not None:\n",
    "            stack.append(current)\n",
    "            current=current.left\n",
    "        elif stack:\n",
    "            current=stack.pop()\n",
    "            print(current.data)\n",
    "            current=current.right\n",
    "        else:\n",
    "            break\n",
    "\n",
    "def inorder_without_stack(root):\n",
    "    current=root\n",
    "    while current is not None:\n",
    "        if current.left is None:\n",
    "            print(current.data)\n",
    "            current=current.right\n",
    "        else:\n",
    "            pred=current.left\n",
    "            while pred.right is not None and pred.right is not current:\n",
    "                pred=pred.right\n",
    "            if pred.right is None:\n",
    "                pred.right=current\n",
    "                current=current.left\n",
    "            else:\n",
    "                pred.right=None\n",
    "                print(current.data)\n",
    "                current=current.right\n",
    "\n",
    "            "
   ]
  },
  {
   "cell_type": "code",
   "execution_count": 3,
   "metadata": {},
   "outputs": [],
   "source": [
    "def preorder(root):\n",
    "    if root:\n",
    "        print(root.data)\n",
    "        preorder(root.left)\n",
    "        preorder(root.right)\n",
    "def preorder_without_recursion(root):\n",
    "    current=root\n",
    "    stack=[current]\n",
    "    while (len(stack)>=1):\n",
    "        current=stack.pop()\n",
    "        print(current.data)\n",
    "\n",
    "        if current.right is not None:\n",
    "            stack.append(current.right)\n",
    "        if current.left is not None:\n",
    "            stack.append(current.left)\n",
    "        \n",
    "  "
   ]
  },
  {
   "cell_type": "code",
   "execution_count": 4,
   "metadata": {},
   "outputs": [],
   "source": [
    "def postorder(root):\n",
    "    if root:\n",
    "        postorder(root.left)\n",
    "        postorder(root.right)\n",
    "        print(root.data)\n",
    "\n",
    "def postorder_without_recursion(root):\n",
    "    current=root\n",
    "    visited=set()\n",
    "    while current and current not in visited:\n",
    "        if current.left and current.left not in visited:\n",
    "            current=current.left\n",
    "        elif current.right and current.right not in visited:\n",
    "            current=current.right\n",
    "        else:\n",
    "            print(current.data)\n",
    "            visited.add(current)\n",
    "            current=root\n"
   ]
  },
  {
   "cell_type": "code",
   "execution_count": 7,
   "metadata": {},
   "outputs": [
    {
     "name": "stdout",
     "output_type": "stream",
     "text": [
      "4\n",
      "2\n",
      "5\n",
      "1\n",
      "3\n"
     ]
    }
   ],
   "source": [
    "root = Node(1)\n",
    "root.left = Node(2)\n",
    "root.right = Node(3)\n",
    "root.left.left = Node(4)\n",
    "root.left.right = Node(5)\n",
    "#inorder(root)\n",
    "#inorder_without_recursion(root)\n",
    "inorder_without_stack(root)\n",
    "#preorder(root)\n",
    "#preorder_without_recursion(root)\n",
    "#postorder(root)\n",
    "#postorder_without_recursion(root)"
   ]
  },
  {
   "cell_type": "code",
   "execution_count": 19,
   "metadata": {},
   "outputs": [],
   "source": [
    "value=[1,2,3,4]"
   ]
  },
  {
   "cell_type": "code",
   "execution_count": 20,
   "metadata": {},
   "outputs": [
    {
     "data": {
      "text/plain": [
       "4"
      ]
     },
     "execution_count": 20,
     "metadata": {},
     "output_type": "execute_result"
    }
   ],
   "source": [
    "value.pop()"
   ]
  },
  {
   "cell_type": "code",
   "execution_count": 21,
   "metadata": {},
   "outputs": [
    {
     "data": {
      "text/plain": [
       "[1, 2, 3]"
      ]
     },
     "execution_count": 21,
     "metadata": {},
     "output_type": "execute_result"
    }
   ],
   "source": [
    "value"
   ]
  },
  {
   "cell_type": "code",
   "execution_count": null,
   "metadata": {},
   "outputs": [],
   "source": []
  }
 ],
 "metadata": {
  "kernelspec": {
   "display_name": "Python 3",
   "language": "python",
   "name": "python3"
  },
  "language_info": {
   "codemirror_mode": {
    "name": "ipython",
    "version": 3
   },
   "file_extension": ".py",
   "mimetype": "text/x-python",
   "name": "python",
   "nbconvert_exporter": "python",
   "pygments_lexer": "ipython3",
   "version": "3.8.10 (default, Nov 14 2022, 12:59:47) \n[GCC 9.4.0]"
  },
  "orig_nbformat": 4,
  "vscode": {
   "interpreter": {
    "hash": "916dbcbb3f70747c44a77c7bcd40155683ae19c65e1c03b4aa3499c5328201f1"
   }
  }
 },
 "nbformat": 4,
 "nbformat_minor": 2
}
