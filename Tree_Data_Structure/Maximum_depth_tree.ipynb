{
 "cells": [
  {
   "cell_type": "code",
   "execution_count": 1,
   "metadata": {},
   "outputs": [],
   "source": [
    "class Node:\n",
    "    def __init__(self, data):\n",
    "        self.left = None\n",
    "        self.right = None\n",
    "        self.data = data"
   ]
  },
  {
   "cell_type": "code",
   "execution_count": 2,
   "metadata": {},
   "outputs": [],
   "source": [
    "class Solution:\n",
    "    def maxDepth(self, root):\n",
    "        \n",
    "        # if root is None:\n",
    "        #     return 0\n",
    "        # return 1+max(self.maxDepth(root.left),self.maxDepth(root.right))\n",
    "        \n",
    "        #using breadth First Search\n",
    "        # if root is None:\n",
    "        #     return 0\n",
    "        # level=0\n",
    "        # q=deque([root])\n",
    "        # while q:\n",
    "\n",
    "        #     for i in range(len(q)):\n",
    "        #         node=q.popleft()\n",
    "        #         if node.left:\n",
    "        #             q.append(node.left)\n",
    "        #         if node.right:\n",
    "        #             q.append(node.right)\n",
    "        #     level+=1\n",
    "        # return level\n",
    "\n",
    "        #using depth first search\n",
    "        stack=[[root,1]]\n",
    "        res=0\n",
    "        while stack:\n",
    "            node,depth=stack.pop()\n",
    "            if node:\n",
    "                res=max(res,depth)\n",
    "                stack.append([node.left,depth+1])\n",
    "                stack.append([node.right,depth+1])\n",
    "        return res"
   ]
  },
  {
   "cell_type": "code",
   "execution_count": 6,
   "metadata": {},
   "outputs": [],
   "source": [
    "root = Node(1)\n",
    "root.left = Node(2)\n",
    "root.right = Node(3)\n",
    "root.right.left = Node(4)\n",
    "root.right.right = Node(5)"
   ]
  },
  {
   "cell_type": "code",
   "execution_count": 7,
   "metadata": {},
   "outputs": [
    {
     "data": {
      "text/plain": [
       "3"
      ]
     },
     "execution_count": 7,
     "metadata": {},
     "output_type": "execute_result"
    }
   ],
   "source": [
    "Solution().maxDepth(root)"
   ]
  },
  {
   "cell_type": "code",
   "execution_count": null,
   "metadata": {},
   "outputs": [],
   "source": []
  }
 ],
 "metadata": {
  "kernelspec": {
   "display_name": "Python 3",
   "language": "python",
   "name": "python3"
  },
  "language_info": {
   "codemirror_mode": {
    "name": "ipython",
    "version": 3
   },
   "file_extension": ".py",
   "mimetype": "text/x-python",
   "name": "python",
   "nbconvert_exporter": "python",
   "pygments_lexer": "ipython3",
   "version": "3.8.10 (default, Nov 14 2022, 12:59:47) \n[GCC 9.4.0]"
  },
  "orig_nbformat": 4,
  "vscode": {
   "interpreter": {
    "hash": "916dbcbb3f70747c44a77c7bcd40155683ae19c65e1c03b4aa3499c5328201f1"
   }
  }
 },
 "nbformat": 4,
 "nbformat_minor": 2
}
